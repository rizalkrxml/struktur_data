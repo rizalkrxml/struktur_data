{
  "nbformat": 4,
  "nbformat_minor": 0,
  "metadata": {
    "colab": {
      "provenance": []
    },
    "kernelspec": {
      "name": "python3",
      "display_name": "Python 3"
    },
    "language_info": {
      "name": "python"
    }
  },
  "cells": [
    {
      "cell_type": "code",
      "execution_count": 4,
      "metadata": {
        "colab": {
          "base_uri": "https://localhost:8080/"
        },
        "id": "4tFtRG4VPNYK",
        "outputId": "11db5091-7840-4e67-aaa0-dd66481ce7a2"
      },
      "outputs": [
        {
          "output_type": "stream",
          "name": "stdout",
          "text": [
            "Teman saya yang ke 4 adalah Adi\n",
            "Semua Teman Ada : 5 orang\n",
            "Anggun\n",
            "Dian\n",
            "Agung\n",
            "Adi\n",
            "Adam\n"
          ]
        }
      ],
      "source": [
        "my_friends = [\"Anggun\", \"Dian\", \"Agung\", \"Adi\",\n",
        "\"Adam\"]\n",
        "\n",
        "print(\"Teman saya yang ke 4 adalah {}\".format(my_friends[3]))\n",
        "print(\"Semua Teman Ada : {} orang\".format(len(my_friends)))\n",
        "for friends in my_friends : print(friends)"
      ]
    }
  ]
}